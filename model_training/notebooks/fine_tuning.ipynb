{
 "cells": [
  {
   "cell_type": "markdown",
   "id": "65da9d1b",
   "metadata": {},
   "source": [
    "# Malaria Cell Classification - Full Jupyter Notebook\n",
    "Including:\n",
    "1. Data Loading and Preprocessing\n",
    "2. CNN and MobileNetV2 Training\n",
    "3. Confusion Matrix + Classification Report\n",
    "4. TFLite Export"
   ]
  },
  {
   "cell_type": "code",
   "execution_count": 1,
   "id": "360dd8ff",
   "metadata": {},
   "outputs": [],
   "source": [
    "import tensorflow as tf\n",
    "import numpy as np\n",
    "import matplotlib.pyplot as plt\n",
    "import seaborn as sns\n",
    "import os\n",
    "from sklearn.metrics import classification_report, confusion_matrix\n",
    "from tensorflow.keras import layers, models\n",
    "from tensorflow.keras.preprocessing.image import ImageDataGenerator\n",
    "from tensorflow.keras.applications import MobileNetV2\n"
   ]
  },
  {
   "cell_type": "code",
   "execution_count": null,
   "id": "4adb182f",
   "metadata": {},
   "outputs": [],
   "source": [
    "\n",
    "DATA_DIR = '../dataset/cell_images/'\n",
    "IMG_SIZE = (128, 128)\n",
    "BATCH_SIZE = 32"
   ]
  },
  {
   "cell_type": "markdown",
   "id": "39c7f41e",
   "metadata": {},
   "source": [
    "## Step 1: Data Generators"
   ]
  },
  {
   "cell_type": "code",
   "execution_count": null,
   "id": "8c6ca830",
   "metadata": {},
   "outputs": [
    {
     "name": "stdout",
     "output_type": "stream",
     "text": [
      "Found 22048 images belonging to 2 classes.\n",
      "Found 5510 images belonging to 2 classes.\n"
     ]
    }
   ],
   "source": [
    "\n",
    "train_datagen = ImageDataGenerator(\n",
    "    rescale=1./255,\n",
    "    rotation_range=20,\n",
    "    zoom_range=0.2,\n",
    "    horizontal_flip=True,\n",
    "    validation_split=0.2\n",
    ")\n",
    "\n",
    "train_generator = train_datagen.flow_from_directory(\n",
    "    DATA_DIR,\n",
    "    target_size=IMG_SIZE,\n",
    "    batch_size=BATCH_SIZE,\n",
    "    class_mode='binary',\n",
    "    subset='training'\n",
    ")\n",
    "\n",
    "val_generator = train_datagen.flow_from_directory(\n",
    "    DATA_DIR,\n",
    "    target_size=IMG_SIZE,\n",
    "    batch_size=BATCH_SIZE,\n",
    "    class_mode='binary',\n",
    "    subset='validation'\n",
    ")"
   ]
  },
  {
   "cell_type": "markdown",
   "id": "71dc1739",
   "metadata": {},
   "source": [
    "## Step 2: Build MobileNetV2 Model"
   ]
  },
  {
   "cell_type": "code",
   "execution_count": null,
   "id": "29a8c8c6",
   "metadata": {},
   "outputs": [
    {
     "name": "stdout",
     "output_type": "stream",
     "text": [
      "Downloading data from https://storage.googleapis.com/tensorflow/keras-applications/mobilenet_v2/mobilenet_v2_weights_tf_dim_ordering_tf_kernels_1.0_128_no_top.h5\n",
      "9406464/9406464 [==============================] - 3s 0us/step\n",
      "Model: \"sequential\"\n",
      "_________________________________________________________________\n",
      " Layer (type)                Output Shape              Param #   \n",
      "=================================================================\n",
      " mobilenetv2_1.00_128 (Func  (None, 4, 4, 1280)        2257984   \n",
      " tional)                                                         \n",
      "                                                                 \n",
      " global_average_pooling2d (  (None, 1280)              0         \n",
      " GlobalAveragePooling2D)                                         \n",
      "                                                                 \n",
      " dense (Dense)               (None, 128)               163968    \n",
      "                                                                 \n",
      " dropout (Dropout)           (None, 128)               0         \n",
      "                                                                 \n",
      " dense_1 (Dense)             (None, 1)                 129       \n",
      "                                                                 \n",
      "=================================================================\n",
      "Total params: 2422081 (9.24 MB)\n",
      "Trainable params: 164097 (641.00 KB)\n",
      "Non-trainable params: 2257984 (8.61 MB)\n",
      "_________________________________________________________________\n"
     ]
    }
   ],
   "source": [
    "\n",
    "base_model = MobileNetV2(input_shape=(*IMG_SIZE, 3), include_top=False, weights='imagenet')\n",
    "base_model.trainable = False\n",
    "\n",
    "model = models.Sequential([\n",
    "    base_model,\n",
    "    layers.GlobalAveragePooling2D(),\n",
    "    layers.Dense(128, activation='relu'),\n",
    "    layers.Dropout(0.5),\n",
    "    layers.Dense(1, activation='sigmoid')\n",
    "])\n",
    "\n",
    "model.compile(optimizer='adam', loss='binary_crossentropy', metrics=['accuracy'])\n",
    "model.summary()"
   ]
  },
  {
   "cell_type": "markdown",
   "id": "30949991",
   "metadata": {},
   "source": [
    "## Step 3: Train Head"
   ]
  },
  {
   "cell_type": "code",
   "execution_count": null,
   "id": "474024ea",
   "metadata": {},
   "outputs": [
    {
     "name": "stdout",
     "output_type": "stream",
     "text": [
      "Epoch 1/5\n",
      "689/689 [==============================] - 589s 850ms/step - loss: 0.2812 - accuracy: 0.8875 - val_loss: 0.2317 - val_accuracy: 0.9073\n",
      "Epoch 2/5\n",
      "689/689 [==============================] - 512s 743ms/step - loss: 0.2317 - accuracy: 0.9102 - val_loss: 0.2195 - val_accuracy: 0.9165\n",
      "Epoch 3/5\n",
      "689/689 [==============================] - 416s 603ms/step - loss: 0.2232 - accuracy: 0.9149 - val_loss: 0.2229 - val_accuracy: 0.9171\n",
      "Epoch 4/5\n",
      "689/689 [==============================] - 389s 564ms/step - loss: 0.2184 - accuracy: 0.9181 - val_loss: 0.2110 - val_accuracy: 0.9176\n",
      "Epoch 5/5\n",
      "689/689 [==============================] - 383s 556ms/step - loss: 0.2133 - accuracy: 0.9202 - val_loss: 0.2038 - val_accuracy: 0.9249\n"
     ]
    }
   ],
   "source": [
    "\n",
    "initial_epochs = 5\n",
    "history = model.fit(\n",
    "    train_generator,\n",
    "    epochs=initial_epochs,\n",
    "    validation_data=val_generator\n",
    ")"
   ]
  },
  {
   "cell_type": "markdown",
   "id": "b1687a37",
   "metadata": {},
   "source": [
    "## Step 4: Fine-tune Base"
   ]
  },
  {
   "cell_type": "code",
   "execution_count": null,
   "id": "ea0d63af",
   "metadata": {},
   "outputs": [
    {
     "name": "stdout",
     "output_type": "stream",
     "text": [
      "Epoch 5/15\n",
      "689/689 [==============================] - 1335s 2s/step - loss: 0.2569 - accuracy: 0.9079 - val_loss: 1.7151 - val_accuracy: 0.5969\n",
      "Epoch 6/15\n",
      "689/689 [==============================] - 1302s 2s/step - loss: 0.1788 - accuracy: 0.9390 - val_loss: 0.6318 - val_accuracy: 0.8125\n",
      "Epoch 7/15\n",
      "689/689 [==============================] - 1178s 2s/step - loss: 0.1537 - accuracy: 0.9478 - val_loss: 0.2495 - val_accuracy: 0.9245\n",
      "Epoch 8/15\n",
      "689/689 [==============================] - 1181s 2s/step - loss: 0.1431 - accuracy: 0.9512 - val_loss: 0.1713 - val_accuracy: 0.9414\n",
      "Epoch 9/15\n",
      "689/689 [==============================] - 1321s 2s/step - loss: 0.1308 - accuracy: 0.9564 - val_loss: 0.1508 - val_accuracy: 0.9483\n",
      "Epoch 10/15\n",
      "689/689 [==============================] - 1271s 2s/step - loss: 0.1271 - accuracy: 0.9582 - val_loss: 0.1503 - val_accuracy: 0.9514\n",
      "Epoch 11/15\n",
      "689/689 [==============================] - 1213s 2s/step - loss: 0.1196 - accuracy: 0.9603 - val_loss: 0.1534 - val_accuracy: 0.9510\n",
      "Epoch 12/15\n",
      "689/689 [==============================] - 1285s 2s/step - loss: 0.1184 - accuracy: 0.9603 - val_loss: 0.1474 - val_accuracy: 0.9481\n",
      "Epoch 13/15\n",
      "689/689 [==============================] - 1300s 2s/step - loss: 0.1062 - accuracy: 0.9632 - val_loss: 0.1520 - val_accuracy: 0.9495\n",
      "Epoch 14/15\n",
      "689/689 [==============================] - 1326s 2s/step - loss: 0.1051 - accuracy: 0.9645 - val_loss: 0.1534 - val_accuracy: 0.9508\n",
      "Epoch 15/15\n",
      "689/689 [==============================] - 1116s 2s/step - loss: 0.0990 - accuracy: 0.9653 - val_loss: 0.1500 - val_accuracy: 0.9497\n"
     ]
    }
   ],
   "source": [
    "\n",
    "base_model.trainable = True\n",
    "model.compile(optimizer=tf.keras.optimizers.Adam(1e-5), loss='binary_crossentropy', metrics=['accuracy'])\n",
    "fine_tune_epochs = 10\n",
    "total_epochs = initial_epochs + fine_tune_epochs\n",
    "\n",
    "history_fine = model.fit(\n",
    "    train_generator,\n",
    "    epochs=total_epochs,\n",
    "    initial_epoch=history.epoch[-1],\n",
    "    validation_data=val_generator\n",
    ")\n"
   ]
  },
  {
   "cell_type": "markdown",
   "id": "f746d66d",
   "metadata": {},
   "source": [
    "## Step 5: Save Model"
   ]
  },
  {
   "cell_type": "code",
   "execution_count": null,
   "id": "634511a8",
   "metadata": {},
   "outputs": [
    {
     "name": "stderr",
     "output_type": "stream",
     "text": [
      "c:\\Users\\zelalem.wubet\\projects\\personal\\undp\\malaria-diagnosis-system\\model_training\\venv310\\lib\\site-packages\\keras\\src\\engine\\training.py:3000: UserWarning: You are saving your model as an HDF5 file via `model.save()`. This file format is considered legacy. We recommend using instead the native Keras format, e.g. `model.save('my_model.keras')`.\n",
      "  saving_api.save_model(\n"
     ]
    }
   ],
   "source": [
    "\n",
    "model.save('../models/malaria_mobilenetv2_model.h5')\n"
   ]
  },
  {
   "cell_type": "markdown",
   "id": "16796f4a",
   "metadata": {},
   "source": [
    "## Step 6: Load Test Data"
   ]
  },
  {
   "cell_type": "code",
   "execution_count": null,
   "id": "67860835",
   "metadata": {},
   "outputs": [
    {
     "name": "stdout",
     "output_type": "stream",
     "text": [
      "Found 27558 images belonging to 2 classes.\n"
     ]
    }
   ],
   "source": [
    "\n",
    "test_datagen = ImageDataGenerator(rescale=1./255)\n",
    "test_generator = test_datagen.flow_from_directory(\n",
    "    DATA_DIR,\n",
    "    target_size=IMG_SIZE,\n",
    "    batch_size=BATCH_SIZE,\n",
    "    class_mode='binary',\n",
    "    shuffle=False\n",
    ")\n"
   ]
  },
  {
   "cell_type": "markdown",
   "id": "449eac07",
   "metadata": {},
   "source": [
    "## Step 7: Evaluate on Test Set"
   ]
  },
  {
   "cell_type": "code",
   "execution_count": null,
   "id": "53f7ca07",
   "metadata": {},
   "outputs": [
    {
     "name": "stdout",
     "output_type": "stream",
     "text": [
      "862/862 [==============================] - 301s 347ms/step\n",
      "              precision    recall  f1-score   support\n",
      "\n",
      " Parasitized       0.99      0.94      0.96     13779\n",
      "  Uninfected       0.94      0.99      0.96     13779\n",
      "\n",
      "    accuracy                           0.96     27558\n",
      "   macro avg       0.97      0.96      0.96     27558\n",
      "weighted avg       0.97      0.96      0.96     27558\n",
      "\n"
     ]
    },
    {
     "data": {
      "image/png": "[encoded data removed]",
      "text/plain": [
       "<Figure size 640x480 with 2 Axes>"
      ]
     },
     "metadata": {},
     "output_type": "display_data"
    }
   ],
   "source": [
    "\n",
    "Y_pred = model.predict(test_generator)\n",
    "y_pred = (Y_pred > 0.5).astype(int).ravel()\n",
    "y_true = test_generator.classes\n",
    "\n",
    "print(classification_report(y_true, y_pred, target_names=['Parasitized', 'Uninfected']))\n",
    "\n",
    "cm = confusion_matrix(y_true, y_pred)\n",
    "sns.heatmap(cm, annot=True, fmt='d', cmap='Blues', xticklabels=['Parasitized', 'Uninfected'], yticklabels=['Parasitized', 'Uninfected'])\n",
    "plt.xlabel('Predicted')\n",
    "plt.ylabel('True')\n",
    "plt.title('Confusion Matrix')\n",
    "plt.show()\n"
   ]
  },
  {
   "cell_type": "markdown",
   "id": "ef9b8adb",
   "metadata": {},
   "source": [
    "## Step 8: Convert to TFLite"
   ]
  },
  {
   "cell_type": "code",
   "execution_count": null,
   "id": "6536484d",
   "metadata": {},
   "outputs": [
    {
     "name": "stderr",
     "output_type": "stream",
     "text": [
      "WARNING:absl:`mobilenetv2_1.00_128_input` is not a valid tf.function parameter name. Sanitizing to `mobilenetv2_1_00_128_input`.\n",
      "WARNING:absl:`mobilenetv2_1.00_128_input` is not a valid tf.function parameter name. Sanitizing to `mobilenetv2_1_00_128_input`.\n",
      "WARNING:absl:`mobilenetv2_1.00_128_input` is not a valid tf.function parameter name. Sanitizing to `mobilenetv2_1_00_128_input`.\n"
     ]
    },
    {
     "name": "stdout",
     "output_type": "stream",
     "text": [
      "INFO:tensorflow:Assets written to: C:\\Users\\ZELALE~1.WUB\\AppData\\Local\\Temp\\tmpl4mtjq9t\\assets\n"
     ]
    },
    {
     "name": "stderr",
     "output_type": "stream",
     "text": [
      "INFO:tensorflow:Assets written to: C:\\Users\\ZELALE~1.WUB\\AppData\\Local\\Temp\\tmpl4mtjq9t\\assets\n"
     ]
    }
   ],
   "source": [
    "\n",
    "converter = tf.lite.TFLiteConverter.from_keras_model(model)\n",
    "converter.optimizations = [tf.lite.Optimize.DEFAULT]\n",
    "tflite_model = converter.convert()\n",
    "\n",
    "with open('../models/malaria_mobilenetv2_model.tflite', 'wb') as f:\n",
    "    f.write(tflite_model)"
   ]
  }
 ],
 "metadata": {
  "kernelspec": {
   "display_name": "venv310",
   "language": "python",
   "name": "python3"
  },
  "language_info": {
   "codemirror_mode": {
    "name": "ipython",
    "version": 3
   },
   "file_extension": ".py",
   "mimetype": "text/x-python",
   "name": "python",
   "nbconvert_exporter": "python",
   "pygments_lexer": "ipython3",
   "version": "3.10.0"
  }
 },
 "nbformat": 4,
 "nbformat_minor": 5
}
